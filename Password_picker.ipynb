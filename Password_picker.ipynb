{
 "cells": [
  {
   "cell_type": "code",
   "execution_count": 11,
   "id": "65331adb",
   "metadata": {},
   "outputs": [
    {
     "name": "stdout",
     "output_type": "stream",
     "text": [
      "Password: HappyTea1*\n"
     ]
    }
   ],
   "source": [
    "import random\n",
    "adj_list=[\"Happy\",\"Sad\",\"Sweet\",\"Cold\",\"Hard\",\"Dry\",\"Silent\",\"Loud\",\"Bright\",\"Great\",\"Long\",\"Little\",\"Hollow\",\"Adorable\",\"Energetic\"]\n",
    "noun_list=[\"Car\",\"Man\",\"Tea\",\"Lion\",\"Mountain\",\"Ocean\",\"Building\",\"India\",\"Sunday\",\"Apple\",\"Heart\",\"Newspaper\"]\n",
    "num=list(range(1,100))\n",
    "punc_list=['!','@','#','%','$','&','(',')',',','.',';',':','?','/','{','}','[',']','\"','<','>','*']\n",
    "\n",
    "Adjective=random.choice(adj_list)\n",
    "Noun=random.choice(noun_list)\n",
    "Number=random.choice(str(num))\n",
    "Punctuation=random.choice(punc_list)\n",
    "\n",
    "Password_picker=Adjective+Noun+Number+Punctuation\n",
    "print(\"Password:\",Password_picker)"
   ]
  },
  {
   "cell_type": "code",
   "execution_count": null,
   "id": "c8c0b564",
   "metadata": {},
   "outputs": [],
   "source": []
  },
  {
   "cell_type": "code",
   "execution_count": null,
   "id": "a7ecc4fe",
   "metadata": {},
   "outputs": [],
   "source": []
  }
 ],
 "metadata": {
  "kernelspec": {
   "display_name": "Python 3",
   "language": "python",
   "name": "python3"
  },
  "language_info": {
   "codemirror_mode": {
    "name": "ipython",
    "version": 3
   },
   "file_extension": ".py",
   "mimetype": "text/x-python",
   "name": "python",
   "nbconvert_exporter": "python",
   "pygments_lexer": "ipython3",
   "version": "3.8.8"
  }
 },
 "nbformat": 4,
 "nbformat_minor": 5
}
